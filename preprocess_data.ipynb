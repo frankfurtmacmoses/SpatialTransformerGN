{
 "cells": [
  {
   "cell_type": "code",
   "execution_count": 2,
   "id": "4c6ed02f",
   "metadata": {},
   "outputs": [
    {
     "name": "stderr",
     "output_type": "stream",
     "text": [
      "2025-04-27 13:46:01.647364: I tensorflow/core/util/port.cc:113] oneDNN custom operations are on. You may see slightly different numerical results due to floating-point round-off errors from different computation orders. To turn them off, set the environment variable `TF_ENABLE_ONEDNN_OPTS=0`.\n",
      "2025-04-27 13:46:01.802542: E external/local_xla/xla/stream_executor/cuda/cuda_dnn.cc:9261] Unable to register cuDNN factory: Attempting to register factory for plugin cuDNN when one has already been registered\n",
      "2025-04-27 13:46:01.802592: E external/local_xla/xla/stream_executor/cuda/cuda_fft.cc:607] Unable to register cuFFT factory: Attempting to register factory for plugin cuFFT when one has already been registered\n",
      "2025-04-27 13:46:01.826082: E external/local_xla/xla/stream_executor/cuda/cuda_blas.cc:1515] Unable to register cuBLAS factory: Attempting to register factory for plugin cuBLAS when one has already been registered\n",
      "2025-04-27 13:46:01.875769: I tensorflow/core/platform/cpu_feature_guard.cc:182] This TensorFlow binary is optimized to use available CPU instructions in performance-critical operations.\n",
      "To enable the following instructions: AVX2 AVX512F AVX512_VNNI AVX512_BF16 FMA, in other operations, rebuild TensorFlow with the appropriate compiler flags.\n",
      "2025-04-27 13:46:02.481714: W tensorflow/compiler/tf2tensorrt/utils/py_utils.cc:38] TF-TRT Warning: Could not find TensorRT\n"
     ]
    }
   ],
   "source": [
    "import numpy as np\n",
    "import scanpy as sc\n",
    "import tensorflow as tf\n",
    "from sklearn.neighbors import kneighbors_graph\n",
    "import scipy.sparse\n",
    "import pandas as pd\n",
    "\n",
    "# Set random seeds for reproducibility\n",
    "tf.random.set_seed(42)\n",
    "np.random.seed(42)"
   ]
  },
  {
   "cell_type": "code",
   "execution_count": 3,
   "id": "2f4c0098",
   "metadata": {},
   "outputs": [],
   "source": [
    "adata = sc.read_h5ad('/home/frankfurt/LDL/data/abc_atlas/Zhuang-ABCA-1-raw.h5ad')\n",
    "meta = pd.read_csv('/home/frankfurt/LDL/data/abc_atlas/cell_metadata_with_cluster_annotation.csv')\n",
    "coords = pd.read_csv('/home/frankfurt/LDL/data/abc_atlas/ccf_coordinates.csv')"
   ]
  },
  {
   "cell_type": "code",
   "execution_count": 4,
   "id": "4f12ff2f",
   "metadata": {},
   "outputs": [
    {
     "name": "stdout",
     "output_type": "stream",
     "text": [
      "adata.obs columns: Index(['brain_section_label'], dtype='object')\n",
      "meta columns: Index(['cell_label', 'brain_section_label', 'feature_matrix_label',\n",
      "       'donor_label', 'donor_genotype', 'donor_sex', 'cluster_alias', 'x', 'y',\n",
      "       'z', 'subclass_confidence_score', 'cluster_confidence_score',\n",
      "       'high_quality_transfer', 'neurotransmitter', 'class', 'subclass',\n",
      "       'supertype', 'cluster', 'neurotransmitter_color', 'class_color',\n",
      "       'subclass_color', 'supertype_color', 'cluster_color'],\n",
      "      dtype='object')\n",
      "coords columns: Index(['cell_label', 'x', 'y', 'z', 'parcellation_index'], dtype='object')\n"
     ]
    }
   ],
   "source": [
    "# 3. Explore Columns\n",
    "# ===========================================\n",
    "print(\"adata.obs columns:\", adata.obs.columns)\n",
    "print(\"meta columns:\", meta.columns)\n",
    "print(\"coords columns:\", coords.columns)"
   ]
  },
  {
   "cell_type": "code",
   "execution_count": 5,
   "id": "3e3e5712",
   "metadata": {},
   "outputs": [],
   "source": [
    "# ===========================================\n",
    "# 4. Make sure Metadata and Coords are Indexed by 'cell_label'\n",
    "# ===========================================\n",
    "meta = meta.set_index('cell_label')\n",
    "coords = coords.set_index('cell_label')\n"
   ]
  },
  {
   "cell_type": "code",
   "execution_count": 6,
   "id": "e0c273ed",
   "metadata": {},
   "outputs": [
    {
     "name": "stdout",
     "output_type": "stream",
     "text": [
      "✅ Shape after subsetting: (2846908, 1122) (cells, genes)\n"
     ]
    }
   ],
   "source": [
    "# ======================================\n",
    "# 5. Subset AnnData to Metadata Cells\n",
    "# ======================================\n",
    "# Keep only cells that are present in metadata\n",
    "adata = adata[adata.obs.index.isin(meta.index)].copy()\n",
    "print(f\"✅ Shape after subsetting: {adata.shape} (cells, genes)\")"
   ]
  },
  {
   "cell_type": "code",
   "execution_count": 7,
   "id": "56c1446f",
   "metadata": {},
   "outputs": [
    {
     "name": "stdout",
     "output_type": "stream",
     "text": [
      "\n",
      "✅ Number of cells per brain section:\n",
      "brain_section_label\n",
      "Zhuang-ABCA-1.001     5893\n",
      "Zhuang-ABCA-1.002     5505\n",
      "Zhuang-ABCA-1.003     8706\n",
      "Zhuang-ABCA-1.004     9597\n",
      "Zhuang-ABCA-1.005    12097\n",
      "                     ...  \n",
      "Zhuang-ABCA-1.146    14027\n",
      "Zhuang-ABCA-1.147    13729\n",
      "Zhuang-ABCA-1.148    14388\n",
      "Zhuang-ABCA-1.149     8829\n",
      "Zhuang-ABCA-1.150    10096\n",
      "Name: count, Length: 147, dtype: int64\n"
     ]
    }
   ],
   "source": [
    "# Quick summary: Cells per brain_section_label\n",
    "section_summary = adata.obs['brain_section_label'].value_counts().sort_index()\n",
    "\n",
    "print(\"\\n✅ Number of cells per brain section:\")\n",
    "print(section_summary)"
   ]
  },
  {
   "cell_type": "code",
   "execution_count": 9,
   "id": "7be16473",
   "metadata": {},
   "outputs": [],
   "source": [
    "# ======================================\n",
    "# 4. Join Metadata\n",
    "# ======================================\n",
    "# Drop overlapping column from meta\n",
    "meta = meta.drop(columns=['brain_section_label'], errors='ignore')\n",
    "\n",
    "# Now safe to join\n",
    "adata.obs = adata.obs.join(meta, how='left')\n"
   ]
  },
  {
   "cell_type": "code",
   "execution_count": 12,
   "id": "314c6a95",
   "metadata": {},
   "outputs": [],
   "source": [
    "# ======================================\n",
    "# 5. Join Coordinates Safely\n",
    "# ======================================\n",
    "# Drop overlapping columns before joining\n",
    "overlapping_cols = [col for col in coords.columns if col in adata.obs.columns]\n",
    "coords = coords.drop(columns=overlapping_cols, errors='ignore')\n",
    "\n",
    "adata.obs = adata.obs.join(coords, how='left')\n",
    "\n"
   ]
  },
  {
   "cell_type": "code",
   "execution_count": 16,
   "id": "354d9250",
   "metadata": {},
   "outputs": [
    {
     "name": "stdout",
     "output_type": "stream",
     "text": [
      "✅ Saved successfully to: /home/frankfurt/LDL/data/abc_atlas/Zhuang-ABCA-1-merged-final-CLEAN-v2.h5ad\n"
     ]
    }
   ],
   "source": [
    "# ======================================\n",
    "# 7. Save the Final Clean AnnData\n",
    "# ======================================\n",
    "output_path = '/home/frankfurt/LDL/data/abc_atlas/Zhuang-ABCA-1-merged-final-CLEAN-v2.h5ad'\n",
    "adata.write(output_path)\n",
    "\n",
    "print(f\"✅ Saved successfully to: {output_path}\")"
   ]
  },
  {
   "cell_type": "markdown",
   "id": "4a817b4b",
   "metadata": {},
   "source": [
    "Old code starts here."
   ]
  },
  {
   "cell_type": "code",
   "execution_count": 12,
   "id": "a427e838",
   "metadata": {},
   "outputs": [
    {
     "name": "stdout",
     "output_type": "stream",
     "text": [
      "✅ All data saved: pseudo scRNA-seq file and arrays for GNN input.\n"
     ]
    }
   ],
   "source": [
    "\n",
    "# Save the complete annotated spatial dataset\n",
    "adata.write(\"full_spatial_data.h5ad\")\n",
    "\n",
    "# Extract a pseudo scRNA-seq dataset from spatial data\n",
    "# Keeping only essential columns like predicted cell type and cluster\n",
    "sc_data = adata.copy()\n",
    "sc_data.obs = sc_data.obs[[\"cell_type\", \"clusters\"]]\n",
    "sc_data.write(\"pseudo_scRNAseq_data.h5ad\")\n",
    "\n",
    "# Prepare feature matrix (X), spatial coordinates, and labels for modeling\n",
    "X = adata.X.toarray() if not isinstance(adata.X, np.ndarray) else adata.X\n",
    "coords = adata.obsm[\"spatial\"]\n",
    "labels = adata.obs[\"cell_type\"].astype(\"category\").cat.codes.to_numpy()\n",
    "\n",
    "# Save these arrays for GNN input\n",
    "np.save(\"features_X.npy\", X)\n",
    "np.save(\"spatial_coords.npy\", coords)\n",
    "np.save(\"labels_y.npy\", labels)\n",
    "\n",
    "print(\"✅ All data saved: pseudo scRNA-seq file and arrays for GNN input.\")"
   ]
  },
  {
   "cell_type": "code",
   "execution_count": null,
   "id": "13964d02",
   "metadata": {},
   "outputs": [],
   "source": [
    "\n",
    "cell_features = np.load(\"features_X.npy\")         # shape (n_cells, n_genes)\n",
    "coords = np.load(\"spatial_coords.npy\")            # shape (n_cells, 2)\n",
    "labels = np.load(\"labels_y.npy\")                  # shape (n_cells,)"
   ]
  },
  {
   "cell_type": "code",
   "execution_count": 13,
   "id": "49389c11",
   "metadata": {},
   "outputs": [],
   "source": [
    "# ===========================================\n",
    "# 2. Load Preprocessed Spatial Data\n",
    "# ===========================================\n",
    "cell_features = np.load(\"features_X.npy\")         # (num_cells, num_genes)\n",
    "coords = np.load(\"spatial_coords.npy\")            # (num_cells, 2)\n",
    "labels = np.load(\"labels_y.npy\")                  # (num_cells,)\n",
    "\n",
    "# Optionally normalize features\n",
    "from sklearn.preprocessing import StandardScaler\n",
    "cell_features = StandardScaler().fit_transform(cell_features)"
   ]
  },
  {
   "cell_type": "code",
   "execution_count": 14,
   "id": "d376dc85",
   "metadata": {},
   "outputs": [
    {
     "name": "stderr",
     "output_type": "stream",
     "text": [
      "2025-04-23 11:30:08.684294: W tensorflow/core/common_runtime/gpu/gpu_device.cc:2256] Cannot dlopen some GPU libraries. Please make sure the missing libraries mentioned above are installed properly if you would like to use GPU. Follow the guide at https://www.tensorflow.org/install/gpu for how to download and setup the required libraries for your platform.\n",
      "Skipping registering GPU devices...\n"
     ]
    }
   ],
   "source": [
    "# ===========================================\n",
    "# 3. Build Adjacency Matrix from Coordinates\n",
    "# ===========================================\n",
    "adj_matrix = kneighbors_graph(coords, n_neighbors=6, mode='connectivity')\n",
    "cell_adj = tf.convert_to_tensor(adj_matrix.toarray(), dtype=tf.float32)\n"
   ]
  },
  {
   "cell_type": "code",
   "execution_count": 31,
   "id": "e4f53309",
   "metadata": {},
   "outputs": [],
   "source": [
    "\n",
    "# ===========================================\n",
    "# 4. Define Model Architecture\n",
    "# ===========================================\n",
    "class SimpleGraphConv(tf.keras.layers.Layer):\n",
    "    def __init__(self, units, adj, **kwargs):  # Accept additional kwargs\n",
    "        super().__init__(**kwargs)             # Pass kwargs to parent class\n",
    "        self.units = units\n",
    "        self.adj = adj\n",
    "\n",
    "    def build(self, input_shape):\n",
    "        self.w = self.add_weight(\n",
    "            shape=(input_shape[-1], self.units),\n",
    "            initializer=\"glorot_uniform\",\n",
    "            trainable=True\n",
    "        )\n",
    "\n",
    "    def call(self, x):\n",
    "        xw = tf.matmul(x, self.w)                      # (num_cells, units)\n",
    "        return tf.nn.relu(tf.matmul(self.adj, xw))     # (num_cells, units)\n"
   ]
  },
  {
   "cell_type": "code",
   "execution_count": 32,
   "id": "ac97d472",
   "metadata": {},
   "outputs": [],
   "source": [
    "inputs = tf.keras.Input(shape=(cell_features.shape[1],), name=\"cell_input\")  # (num_genes,)\n",
    "x = SimpleGraphConv(128, cell_adj)(inputs)\n",
    "x = tf.keras.layers.Dense(64, activation='relu')(x)\n",
    "output = tf.keras.layers.Dense(np.unique(labels).shape[0], activation='softmax')(x)\n",
    "\n",
    "model = tf.keras.Model(inputs=inputs, outputs=output)"
   ]
  },
  {
   "cell_type": "code",
   "execution_count": 35,
   "id": "cc7a2eff",
   "metadata": {},
   "outputs": [
    {
     "name": "stdout",
     "output_type": "stream",
     "text": [
      "Model: \"model_2\"\n",
      "_________________________________________________________________\n",
      " Layer (type)                Output Shape              Param #   \n",
      "=================================================================\n",
      " cell_input (InputLayer)     [(None, 32285)]           0         \n",
      "                                                                 \n",
      " simple_graph_conv_2 (Simpl  (1196, 128)               4132480   \n",
      " eGraphConv)                                                     \n",
      "                                                                 \n",
      " dense_4 (Dense)             (1196, 64)                8256      \n",
      "                                                                 \n",
      " dense_5 (Dense)             (1196, 15)                975       \n",
      "                                                                 \n",
      "=================================================================\n",
      "Total params: 4141711 (15.80 MB)\n",
      "Trainable params: 4141711 (15.80 MB)\n",
      "Non-trainable params: 0 (0.00 Byte)\n",
      "_________________________________________________________________\n"
     ]
    }
   ],
   "source": [
    "# Compile\n",
    "model.compile(optimizer='adam', loss='sparse_categorical_crossentropy', metrics=['accuracy'])\n",
    "model.summary()"
   ]
  },
  {
   "cell_type": "code",
   "execution_count": 36,
   "id": "92af4081",
   "metadata": {},
   "outputs": [
    {
     "name": "stdout",
     "output_type": "stream",
     "text": [
      "Epoch 1/50\n",
      "1/1 [==============================] - 0s 433ms/step - loss: 4.1072 - accuracy: 0.0569\n",
      "Epoch 2/50\n",
      "1/1 [==============================] - 0s 74ms/step - loss: 4.2057 - accuracy: 0.0744\n",
      "Epoch 3/50\n",
      "1/1 [==============================] - 0s 54ms/step - loss: 4.4045 - accuracy: 0.0769\n",
      "Epoch 4/50\n",
      "1/1 [==============================] - 0s 28ms/step - loss: 4.4806 - accuracy: 0.0786\n",
      "Epoch 5/50\n",
      "1/1 [==============================] - 0s 28ms/step - loss: 4.5592 - accuracy: 0.0686\n",
      "Epoch 6/50\n",
      "1/1 [==============================] - 0s 29ms/step - loss: 4.5519 - accuracy: 0.0744\n",
      "Epoch 7/50\n",
      "1/1 [==============================] - 0s 29ms/step - loss: 4.6285 - accuracy: 0.0669\n",
      "Epoch 8/50\n",
      "1/1 [==============================] - 0s 27ms/step - loss: 4.4759 - accuracy: 0.0661\n",
      "Epoch 9/50\n",
      "1/1 [==============================] - 0s 28ms/step - loss: 4.3135 - accuracy: 0.0786\n",
      "Epoch 10/50\n",
      "1/1 [==============================] - 0s 28ms/step - loss: 4.3221 - accuracy: 0.0719\n",
      "Epoch 11/50\n",
      "1/1 [==============================] - 0s 29ms/step - loss: 4.2638 - accuracy: 0.0786\n",
      "Epoch 12/50\n",
      "1/1 [==============================] - 0s 28ms/step - loss: 4.1749 - accuracy: 0.0794\n",
      "Epoch 13/50\n",
      "1/1 [==============================] - 0s 29ms/step - loss: 4.2075 - accuracy: 0.0694\n",
      "Epoch 14/50\n",
      "1/1 [==============================] - 0s 30ms/step - loss: 3.9182 - accuracy: 0.0811\n",
      "Epoch 15/50\n",
      "1/1 [==============================] - 0s 28ms/step - loss: 4.0604 - accuracy: 0.0677\n",
      "Epoch 16/50\n",
      "1/1 [==============================] - 0s 29ms/step - loss: 3.9075 - accuracy: 0.0711\n",
      "Epoch 17/50\n",
      "1/1 [==============================] - 0s 28ms/step - loss: 3.7438 - accuracy: 0.0811\n",
      "Epoch 18/50\n",
      "1/1 [==============================] - 0s 23ms/step - loss: 3.6605 - accuracy: 0.0702\n",
      "Epoch 19/50\n",
      "1/1 [==============================] - 0s 23ms/step - loss: 3.5062 - accuracy: 0.0736\n",
      "Epoch 20/50\n",
      "1/1 [==============================] - 0s 23ms/step - loss: 3.5121 - accuracy: 0.0727\n",
      "Epoch 21/50\n",
      "1/1 [==============================] - 0s 22ms/step - loss: 3.3031 - accuracy: 0.0819\n",
      "Epoch 22/50\n",
      "1/1 [==============================] - 0s 22ms/step - loss: 3.3578 - accuracy: 0.0736\n",
      "Epoch 23/50\n",
      "1/1 [==============================] - 0s 25ms/step - loss: 3.3063 - accuracy: 0.0619\n",
      "Epoch 24/50\n",
      "1/1 [==============================] - 0s 23ms/step - loss: 3.1792 - accuracy: 0.0602\n",
      "Epoch 25/50\n",
      "1/1 [==============================] - 0s 24ms/step - loss: 3.0976 - accuracy: 0.0694\n",
      "Epoch 26/50\n",
      "1/1 [==============================] - 0s 24ms/step - loss: 3.0722 - accuracy: 0.0594\n",
      "Epoch 27/50\n",
      "1/1 [==============================] - 0s 24ms/step - loss: 3.0298 - accuracy: 0.0769\n",
      "Epoch 28/50\n",
      "1/1 [==============================] - 0s 23ms/step - loss: 3.0246 - accuracy: 0.0585\n",
      "Epoch 29/50\n",
      "1/1 [==============================] - 0s 23ms/step - loss: 2.9580 - accuracy: 0.0585\n",
      "Epoch 30/50\n",
      "1/1 [==============================] - 0s 25ms/step - loss: 2.9082 - accuracy: 0.0652\n",
      "Epoch 31/50\n",
      "1/1 [==============================] - 0s 24ms/step - loss: 2.9522 - accuracy: 0.0702\n",
      "Epoch 32/50\n",
      "1/1 [==============================] - 0s 24ms/step - loss: 2.8962 - accuracy: 0.0736\n",
      "Epoch 33/50\n",
      "1/1 [==============================] - 0s 24ms/step - loss: 2.8391 - accuracy: 0.0778\n",
      "Epoch 34/50\n",
      "1/1 [==============================] - 0s 25ms/step - loss: 2.8657 - accuracy: 0.0744\n",
      "Epoch 35/50\n",
      "1/1 [==============================] - 0s 23ms/step - loss: 2.8349 - accuracy: 0.0753\n",
      "Epoch 36/50\n",
      "1/1 [==============================] - 0s 23ms/step - loss: 2.8372 - accuracy: 0.0936\n",
      "Epoch 37/50\n",
      "1/1 [==============================] - 0s 23ms/step - loss: 2.8226 - accuracy: 0.0661\n",
      "Epoch 38/50\n",
      "1/1 [==============================] - 0s 23ms/step - loss: 2.7898 - accuracy: 0.0853\n",
      "Epoch 39/50\n",
      "1/1 [==============================] - 0s 22ms/step - loss: 2.8080 - accuracy: 0.0761\n",
      "Epoch 40/50\n",
      "1/1 [==============================] - 0s 22ms/step - loss: 2.7693 - accuracy: 0.0727\n",
      "Epoch 41/50\n",
      "1/1 [==============================] - 0s 23ms/step - loss: 2.7533 - accuracy: 0.0828\n",
      "Epoch 42/50\n",
      "1/1 [==============================] - 0s 23ms/step - loss: 2.7759 - accuracy: 0.0870\n",
      "Epoch 43/50\n",
      "1/1 [==============================] - 0s 23ms/step - loss: 2.7599 - accuracy: 0.0769\n",
      "Epoch 44/50\n",
      "1/1 [==============================] - 0s 23ms/step - loss: 2.7531 - accuracy: 0.0844\n",
      "Epoch 45/50\n",
      "1/1 [==============================] - 0s 22ms/step - loss: 2.7631 - accuracy: 0.0702\n",
      "Epoch 46/50\n",
      "1/1 [==============================] - 0s 23ms/step - loss: 2.7558 - accuracy: 0.0619\n",
      "Epoch 47/50\n",
      "1/1 [==============================] - 0s 24ms/step - loss: 2.7490 - accuracy: 0.0895\n",
      "Epoch 48/50\n",
      "1/1 [==============================] - 0s 25ms/step - loss: 2.7395 - accuracy: 0.0794\n",
      "Epoch 49/50\n",
      "1/1 [==============================] - 0s 25ms/step - loss: 2.7414 - accuracy: 0.0769\n",
      "Epoch 50/50\n",
      "1/1 [==============================] - 0s 26ms/step - loss: 2.7468 - accuracy: 0.0886\n"
     ]
    },
    {
     "data": {
      "text/plain": [
       "<keras.src.callbacks.History at 0x782c549b3d90>"
      ]
     },
     "execution_count": 36,
     "metadata": {},
     "output_type": "execute_result"
    }
   ],
   "source": [
    "# ===========================================\n",
    "# 5. Train Model (Corrected)\n",
    "# ===========================================\n",
    "model.fit(\n",
    "    cell_features,\n",
    "    labels,\n",
    "    epochs=50,\n",
    "    batch_size=cell_features.shape[0],  # Process all cells in one batch\n",
    "    validation_split=0.0,               # Disable validation split for now\n",
    "    verbose=1\n",
    ")"
   ]
  }
 ],
 "metadata": {
  "kernelspec": {
   "display_name": "tfgnn-env",
   "language": "python",
   "name": "python3"
  },
  "language_info": {
   "codemirror_mode": {
    "name": "ipython",
    "version": 3
   },
   "file_extension": ".py",
   "mimetype": "text/x-python",
   "name": "python",
   "nbconvert_exporter": "python",
   "pygments_lexer": "ipython3",
   "version": "3.9.21"
  }
 },
 "nbformat": 4,
 "nbformat_minor": 5
}
